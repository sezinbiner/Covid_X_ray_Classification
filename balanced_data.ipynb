{
  "nbformat": 4,
  "nbformat_minor": 0,
  "metadata": {
    "accelerator": "GPU",
    "colab": {
      "name": "balanced_data.ipynb",
      "provenance": [],
      "collapsed_sections": [],
      "authorship_tag": "ABX9TyOxF6sPMHe/LxC1Zj6Gcbjw",
      "include_colab_link": true
    },
    "kernelspec": {
      "display_name": "Python 3",
      "name": "python3"
    },
    "language_info": {
      "name": "python"
    }
  },
  "cells": [
    {
      "cell_type": "markdown",
      "metadata": {
        "id": "view-in-github",
        "colab_type": "text"
      },
      "source": [
        "<a href=\"https://colab.research.google.com/github/sezinbiner/Covid_X_ray_Classification/blob/main/balanced_data.ipynb\" target=\"_parent\"><img src=\"https://colab.research.google.com/assets/colab-badge.svg\" alt=\"Open In Colab\"/></a>"
      ]
    },
    {
      "cell_type": "code",
      "metadata": {
        "colab": {
          "base_uri": "https://localhost:8080/"
        },
        "id": "mtnWtgnIIJ0p",
        "outputId": "09c9fd61-a47a-4e8d-b4c7-6ff6fb337750"
      },
      "source": [
        " from google.colab import drive\n",
        "drive.mount('/content/gdrive')"
      ],
      "execution_count": null,
      "outputs": [
        {
          "output_type": "stream",
          "text": [
            "Drive already mounted at /content/gdrive; to attempt to forcibly remount, call drive.mount(\"/content/gdrive\", force_remount=True).\n"
          ],
          "name": "stdout"
        }
      ]
    },
    {
      "cell_type": "code",
      "metadata": {
        "colab": {
          "base_uri": "https://localhost:8080/"
        },
        "id": "kxTJRvUE3FlD",
        "outputId": "3a5e081a-aeb0-4c49-ce0c-b523b7ef807b"
      },
      "source": [
        "from tensorflow.keras.preprocessing.image import ImageDataGenerator\n",
        "train_datagen = ImageDataGenerator(rescale=1./255)\n",
        "val_datagen = ImageDataGenerator(rescale=1./255)\n",
        "test_datagen = ImageDataGenerator(rescale=1./255)\n",
        "train_dir = \"/content/gdrive/MyDrive/bitirme dataset/train\"\n",
        "test_dir = \"/content/gdrive/MyDrive/bitirme dataset/test\"\n",
        "validation_dir = \"/content/gdrive/MyDrive/bitirme dataset/validation\"\n",
        "class_names = ['covid', 'normal']\n",
        "train_generator = train_datagen.flow_from_directory(\n",
        "        train_dir,\n",
        "        target_size=(224, 224),  \n",
        "        batch_size=20,\n",
        "        shuffle=True,\n",
        "        class_mode='binary')\n",
        "validation_generator = val_datagen.flow_from_directory(\n",
        "        validation_dir,\n",
        "        target_size=(224, 224),\n",
        "        batch_size=20,\n",
        "        shuffle=True,\n",
        "        class_mode='binary')\n",
        "test_generator = test_datagen.flow_from_directory(\n",
        "        test_dir,\n",
        "        target_size=(224, 224),\n",
        "        batch_size=1,\n",
        "        class_mode='binary')"
      ],
      "execution_count": null,
      "outputs": [
        {
          "output_type": "stream",
          "text": [
            "Found 4800 images belonging to 2 classes.\n",
            "Found 1200 images belonging to 2 classes.\n",
            "Found 1232 images belonging to 2 classes.\n"
          ],
          "name": "stdout"
        }
      ]
    },
    {
      "cell_type": "code",
      "metadata": {
        "id": "Ljyk1hmd31sI"
      },
      "source": [
        "def extract_features(number_of_images, generator, batch_size):\n",
        "  features = np.zeros(shape=(number_of_images, extraction_layer.output_shape[1], extraction_layer.output_shape[2], extraction_layer.output_shape[3]))\n",
        "  labels = np.zeros(shape=(number_of_images))\n",
        "  i = 0\n",
        "  print(\"loop\")\n",
        "  for inputs_batch, labels_batch in generator:\n",
        "      #print(i)\n",
        "      features_batch = extraction_layer.predict(inputs_batch)\n",
        "      features[i * batch_size : (i + 1) * batch_size] = features_batch\n",
        "      labels[i * batch_size : (i + 1) * batch_size] = labels_batch\n",
        "      i += 1\n",
        "      if i * batch_size >= number_of_images:\n",
        "          break\n",
        "  print(\"loop over\")\n",
        "  return features, labels"
      ],
      "execution_count": null,
      "outputs": []
    },
    {
      "cell_type": "code",
      "metadata": {
        "colab": {
          "base_uri": "https://localhost:8080/"
        },
        "id": "W5AvNZH7ISdE",
        "outputId": "ba547bcf-c853-4712-f9b2-dd6fd8d633a4"
      },
      "source": [
        "from tensorflow.python.keras.applications.resnet_v2 import ResNet50V2\n",
        "from tensorflow.python.keras.applications.densenet import DenseNet201\n",
        "from tensorflow.python.keras.applications.inception_v3 import InceptionV3\n",
        "from tensorflow.python.keras.applications.nasnet import NASNetMobile\n",
        "from tensorflow.python.keras.applications.vgg16 import VGG16\n",
        "from tensorflow.python.keras.applications.vgg19 import VGG19\n",
        "import numpy as np\n",
        "\n",
        "extraction_layer = VGG16(\n",
        "    weights='imagenet',\n",
        "    include_top=False,\n",
        "    input_shape=(224,224,3)\n",
        ")\n",
        "extraction_layer.summary()"
      ],
      "execution_count": null,
      "outputs": [
        {
          "output_type": "stream",
          "text": [
            "Model: \"vgg16\"\n",
            "_________________________________________________________________\n",
            "Layer (type)                 Output Shape              Param #   \n",
            "=================================================================\n",
            "input_1 (InputLayer)         [(None, 224, 224, 3)]     0         \n",
            "_________________________________________________________________\n",
            "block1_conv1 (Conv2D)        (None, 224, 224, 64)      1792      \n",
            "_________________________________________________________________\n",
            "block1_conv2 (Conv2D)        (None, 224, 224, 64)      36928     \n",
            "_________________________________________________________________\n",
            "block1_pool (MaxPooling2D)   (None, 112, 112, 64)      0         \n",
            "_________________________________________________________________\n",
            "block2_conv1 (Conv2D)        (None, 112, 112, 128)     73856     \n",
            "_________________________________________________________________\n",
            "block2_conv2 (Conv2D)        (None, 112, 112, 128)     147584    \n",
            "_________________________________________________________________\n",
            "block2_pool (MaxPooling2D)   (None, 56, 56, 128)       0         \n",
            "_________________________________________________________________\n",
            "block3_conv1 (Conv2D)        (None, 56, 56, 256)       295168    \n",
            "_________________________________________________________________\n",
            "block3_conv2 (Conv2D)        (None, 56, 56, 256)       590080    \n",
            "_________________________________________________________________\n",
            "block3_conv3 (Conv2D)        (None, 56, 56, 256)       590080    \n",
            "_________________________________________________________________\n",
            "block3_pool (MaxPooling2D)   (None, 28, 28, 256)       0         \n",
            "_________________________________________________________________\n",
            "block4_conv1 (Conv2D)        (None, 28, 28, 512)       1180160   \n",
            "_________________________________________________________________\n",
            "block4_conv2 (Conv2D)        (None, 28, 28, 512)       2359808   \n",
            "_________________________________________________________________\n",
            "block4_conv3 (Conv2D)        (None, 28, 28, 512)       2359808   \n",
            "_________________________________________________________________\n",
            "block4_pool (MaxPooling2D)   (None, 14, 14, 512)       0         \n",
            "_________________________________________________________________\n",
            "block5_conv1 (Conv2D)        (None, 14, 14, 512)       2359808   \n",
            "_________________________________________________________________\n",
            "block5_conv2 (Conv2D)        (None, 14, 14, 512)       2359808   \n",
            "_________________________________________________________________\n",
            "block5_conv3 (Conv2D)        (None, 14, 14, 512)       2359808   \n",
            "_________________________________________________________________\n",
            "block5_pool (MaxPooling2D)   (None, 7, 7, 512)         0         \n",
            "=================================================================\n",
            "Total params: 14,714,688\n",
            "Trainable params: 14,714,688\n",
            "Non-trainable params: 0\n",
            "_________________________________________________________________\n"
          ],
          "name": "stdout"
        }
      ]
    },
    {
      "cell_type": "code",
      "metadata": {
        "colab": {
          "base_uri": "https://localhost:8080/"
        },
        "id": "aitwo7k3_Ib_",
        "outputId": "98b3c603-b72c-4962-8b0d-87e2f6e7cbde"
      },
      "source": [
        "train_features, train_labels = extract_features(4800, train_generator, train_generator.batch_size)\n",
        "validation_features, validation_labels = extract_features(1200, validation_generator, validation_generator.batch_size)"
      ],
      "execution_count": null,
      "outputs": [
        {
          "output_type": "stream",
          "text": [
            "loop\n",
            "loop over\n",
            "loop\n",
            "loop over\n"
          ],
          "name": "stdout"
        }
      ]
    },
    {
      "cell_type": "code",
      "metadata": {
        "id": "_CvNxr3r_nko"
      },
      "source": [
        "from keras.models import Sequential\n",
        "from keras import models\n",
        "from keras import layers\n",
        "model = models.Sequential()\n",
        "model.add(layers.Flatten())\n",
        "model.add(layers.Dense(128, activation='relu'))\n",
        "model.add(layers.Dropout(0.5))\n",
        "model.add(layers.Dense(1, activation='sigmoid'))\n",
        "model.compile(\n",
        "    loss='binary_crossentropy',\n",
        "    optimizer= \"adam\" ,\n",
        "    metrics=['accuracy']\n",
        ")"
      ],
      "execution_count": null,
      "outputs": []
    },
    {
      "cell_type": "code",
      "metadata": {
        "id": "-2zX7zweAHZl",
        "colab": {
          "base_uri": "https://localhost:8080/"
        },
        "outputId": "ff1fb9d0-8957-4188-8a03-2628bb883a0c"
      },
      "source": [
        "history = model.fit(train_features, train_labels,\n",
        "                    epochs=10,\n",
        "                    batch_size=20,\n",
        "                    validation_data=(validation_features, validation_labels))"
      ],
      "execution_count": null,
      "outputs": [
        {
          "output_type": "stream",
          "text": [
            "Epoch 1/100\n",
            "300/300 [==============================] - 1s 4ms/step - loss: 0.0670 - accuracy: 0.9596 - val_loss: 0.2685 - val_accuracy: 0.9633\n",
            "Epoch 2/100\n",
            "300/300 [==============================] - 1s 4ms/step - loss: 0.0737 - accuracy: 0.9598 - val_loss: 0.1141 - val_accuracy: 0.9583\n",
            "Epoch 3/100\n",
            "300/300 [==============================] - 1s 4ms/step - loss: 0.0855 - accuracy: 0.9471 - val_loss: 0.1844 - val_accuracy: 0.9650\n",
            "Epoch 4/100\n",
            "300/300 [==============================] - 1s 4ms/step - loss: 0.0677 - accuracy: 0.9617 - val_loss: 0.1850 - val_accuracy: 0.9658\n",
            "Epoch 5/100\n",
            "300/300 [==============================] - 1s 3ms/step - loss: 0.0647 - accuracy: 0.9565 - val_loss: 0.1976 - val_accuracy: 0.9692\n",
            "Epoch 6/100\n",
            "300/300 [==============================] - 1s 4ms/step - loss: 0.0682 - accuracy: 0.9573 - val_loss: 0.2033 - val_accuracy: 0.9642\n",
            "Epoch 7/100\n",
            "300/300 [==============================] - 1s 3ms/step - loss: 0.0597 - accuracy: 0.9642 - val_loss: 0.1614 - val_accuracy: 0.9617\n",
            "Epoch 8/100\n",
            "300/300 [==============================] - 1s 4ms/step - loss: 0.0682 - accuracy: 0.9623 - val_loss: 0.1551 - val_accuracy: 0.9625\n",
            "Epoch 9/100\n",
            "300/300 [==============================] - 1s 4ms/step - loss: 0.0650 - accuracy: 0.9608 - val_loss: 0.2731 - val_accuracy: 0.9625\n",
            "Epoch 10/100\n",
            "300/300 [==============================] - 1s 3ms/step - loss: 0.0666 - accuracy: 0.9554 - val_loss: 0.2331 - val_accuracy: 0.9658\n",
            "Epoch 11/100\n",
            "300/300 [==============================] - 1s 3ms/step - loss: 0.0852 - accuracy: 0.9431 - val_loss: 0.2251 - val_accuracy: 0.9650\n",
            "Epoch 12/100\n",
            "300/300 [==============================] - 1s 4ms/step - loss: 0.0697 - accuracy: 0.9608 - val_loss: 0.2467 - val_accuracy: 0.9650\n",
            "Epoch 13/100\n",
            "300/300 [==============================] - 1s 4ms/step - loss: 0.0711 - accuracy: 0.9548 - val_loss: 0.2021 - val_accuracy: 0.9650\n",
            "Epoch 14/100\n",
            "300/300 [==============================] - 1s 3ms/step - loss: 0.0671 - accuracy: 0.9573 - val_loss: 0.2526 - val_accuracy: 0.9608\n",
            "Epoch 15/100\n",
            "300/300 [==============================] - 1s 3ms/step - loss: 0.0819 - accuracy: 0.9396 - val_loss: 0.2086 - val_accuracy: 0.9650\n",
            "Epoch 16/100\n",
            "300/300 [==============================] - 1s 4ms/step - loss: 0.0647 - accuracy: 0.9529 - val_loss: 0.2294 - val_accuracy: 0.9608\n",
            "Epoch 17/100\n",
            "300/300 [==============================] - 1s 4ms/step - loss: 0.0602 - accuracy: 0.9640 - val_loss: 0.2354 - val_accuracy: 0.9633\n",
            "Epoch 18/100\n",
            "300/300 [==============================] - 1s 4ms/step - loss: 0.0526 - accuracy: 0.9673 - val_loss: 0.2360 - val_accuracy: 0.9642\n",
            "Epoch 19/100\n",
            "300/300 [==============================] - 1s 3ms/step - loss: 0.0537 - accuracy: 0.9671 - val_loss: 0.1924 - val_accuracy: 0.9658\n",
            "Epoch 20/100\n",
            "300/300 [==============================] - 1s 3ms/step - loss: 0.0546 - accuracy: 0.9675 - val_loss: 0.2085 - val_accuracy: 0.9675\n",
            "Epoch 21/100\n",
            "300/300 [==============================] - 1s 3ms/step - loss: 0.0582 - accuracy: 0.9567 - val_loss: 0.2060 - val_accuracy: 0.9625\n",
            "Epoch 22/100\n",
            "300/300 [==============================] - 1s 3ms/step - loss: 0.0639 - accuracy: 0.9623 - val_loss: 0.2782 - val_accuracy: 0.9633\n",
            "Epoch 23/100\n",
            "300/300 [==============================] - 1s 4ms/step - loss: 0.0573 - accuracy: 0.9671 - val_loss: 0.2040 - val_accuracy: 0.9667\n",
            "Epoch 24/100\n",
            "300/300 [==============================] - 1s 4ms/step - loss: 0.0600 - accuracy: 0.9615 - val_loss: 0.2556 - val_accuracy: 0.9658\n",
            "Epoch 25/100\n",
            "300/300 [==============================] - 1s 3ms/step - loss: 0.0680 - accuracy: 0.9519 - val_loss: 0.2553 - val_accuracy: 0.9667\n",
            "Epoch 26/100\n",
            "300/300 [==============================] - 1s 4ms/step - loss: 0.0570 - accuracy: 0.9642 - val_loss: 0.2578 - val_accuracy: 0.9633\n",
            "Epoch 27/100\n",
            "300/300 [==============================] - 1s 3ms/step - loss: 0.0673 - accuracy: 0.9490 - val_loss: 0.2408 - val_accuracy: 0.9633\n",
            "Epoch 28/100\n",
            "300/300 [==============================] - 1s 3ms/step - loss: 0.0832 - accuracy: 0.9475 - val_loss: 0.2364 - val_accuracy: 0.9658\n",
            "Epoch 29/100\n",
            "300/300 [==============================] - 1s 3ms/step - loss: 0.0608 - accuracy: 0.9558 - val_loss: 0.2949 - val_accuracy: 0.9667\n",
            "Epoch 30/100\n",
            "300/300 [==============================] - 1s 3ms/step - loss: 0.0582 - accuracy: 0.9627 - val_loss: 0.2632 - val_accuracy: 0.9650\n",
            "Epoch 31/100\n",
            "300/300 [==============================] - 1s 3ms/step - loss: 0.0578 - accuracy: 0.9642 - val_loss: 0.2717 - val_accuracy: 0.9633\n",
            "Epoch 32/100\n",
            "300/300 [==============================] - 1s 4ms/step - loss: 0.0623 - accuracy: 0.9573 - val_loss: 0.2422 - val_accuracy: 0.9600\n",
            "Epoch 33/100\n",
            "300/300 [==============================] - 1s 4ms/step - loss: 0.0711 - accuracy: 0.9533 - val_loss: 0.2432 - val_accuracy: 0.9658\n",
            "Epoch 34/100\n",
            "300/300 [==============================] - 1s 3ms/step - loss: 0.0648 - accuracy: 0.9702 - val_loss: 0.2763 - val_accuracy: 0.9633\n",
            "Epoch 35/100\n",
            "300/300 [==============================] - 1s 3ms/step - loss: 0.0659 - accuracy: 0.9575 - val_loss: 0.2275 - val_accuracy: 0.9633\n",
            "Epoch 36/100\n",
            "300/300 [==============================] - 1s 4ms/step - loss: 0.0561 - accuracy: 0.9602 - val_loss: 0.2317 - val_accuracy: 0.9550\n",
            "Epoch 37/100\n",
            "300/300 [==============================] - 1s 4ms/step - loss: 0.0551 - accuracy: 0.9631 - val_loss: 0.2915 - val_accuracy: 0.9633\n",
            "Epoch 38/100\n",
            "300/300 [==============================] - 1s 3ms/step - loss: 0.0600 - accuracy: 0.9613 - val_loss: 0.2722 - val_accuracy: 0.9633\n",
            "Epoch 39/100\n",
            "300/300 [==============================] - 1s 4ms/step - loss: 0.0682 - accuracy: 0.9513 - val_loss: 0.2895 - val_accuracy: 0.9658\n",
            "Epoch 40/100\n",
            "300/300 [==============================] - 1s 4ms/step - loss: 0.0633 - accuracy: 0.9625 - val_loss: 0.2747 - val_accuracy: 0.9642\n",
            "Epoch 41/100\n",
            "300/300 [==============================] - 1s 4ms/step - loss: 0.0543 - accuracy: 0.9635 - val_loss: 0.2949 - val_accuracy: 0.9675\n",
            "Epoch 42/100\n",
            "300/300 [==============================] - 1s 3ms/step - loss: 0.0482 - accuracy: 0.9698 - val_loss: 0.3034 - val_accuracy: 0.9692\n",
            "Epoch 43/100\n",
            "300/300 [==============================] - 1s 3ms/step - loss: 0.0559 - accuracy: 0.9615 - val_loss: 0.2791 - val_accuracy: 0.9667\n",
            "Epoch 44/100\n",
            "300/300 [==============================] - 1s 3ms/step - loss: 0.0548 - accuracy: 0.9617 - val_loss: 0.2914 - val_accuracy: 0.9683\n",
            "Epoch 45/100\n",
            "300/300 [==============================] - 1s 4ms/step - loss: 0.0724 - accuracy: 0.9554 - val_loss: 0.2123 - val_accuracy: 0.9608\n",
            "Epoch 46/100\n",
            "300/300 [==============================] - 1s 3ms/step - loss: 0.0523 - accuracy: 0.9629 - val_loss: 0.2905 - val_accuracy: 0.9658\n",
            "Epoch 47/100\n",
            "300/300 [==============================] - 1s 4ms/step - loss: 0.0635 - accuracy: 0.9583 - val_loss: 0.2557 - val_accuracy: 0.9667\n",
            "Epoch 48/100\n",
            "300/300 [==============================] - 1s 3ms/step - loss: 0.0607 - accuracy: 0.9602 - val_loss: 0.2867 - val_accuracy: 0.9667\n",
            "Epoch 49/100\n",
            "300/300 [==============================] - 1s 4ms/step - loss: 0.0712 - accuracy: 0.9585 - val_loss: 0.2699 - val_accuracy: 0.9658\n",
            "Epoch 50/100\n",
            "300/300 [==============================] - 1s 3ms/step - loss: 0.0492 - accuracy: 0.9683 - val_loss: 0.2340 - val_accuracy: 0.9667\n",
            "Epoch 51/100\n",
            "300/300 [==============================] - 1s 3ms/step - loss: 0.1106 - accuracy: 0.9321 - val_loss: 0.2302 - val_accuracy: 0.9683\n",
            "Epoch 52/100\n",
            "300/300 [==============================] - 1s 4ms/step - loss: 0.0807 - accuracy: 0.9398 - val_loss: 0.3271 - val_accuracy: 0.9558\n",
            "Epoch 53/100\n",
            "300/300 [==============================] - 1s 3ms/step - loss: 0.0607 - accuracy: 0.9602 - val_loss: 0.2359 - val_accuracy: 0.9658\n",
            "Epoch 54/100\n",
            "300/300 [==============================] - 1s 3ms/step - loss: 0.0525 - accuracy: 0.9635 - val_loss: 0.2563 - val_accuracy: 0.9667\n",
            "Epoch 55/100\n",
            "300/300 [==============================] - 1s 4ms/step - loss: 0.0517 - accuracy: 0.9652 - val_loss: 0.3213 - val_accuracy: 0.9667\n",
            "Epoch 56/100\n",
            "300/300 [==============================] - 1s 3ms/step - loss: 0.0516 - accuracy: 0.9646 - val_loss: 0.3363 - val_accuracy: 0.9683\n",
            "Epoch 57/100\n",
            "300/300 [==============================] - 1s 3ms/step - loss: 0.0524 - accuracy: 0.9600 - val_loss: 0.2847 - val_accuracy: 0.9650\n",
            "Epoch 58/100\n",
            "300/300 [==============================] - 1s 3ms/step - loss: 0.0579 - accuracy: 0.9610 - val_loss: 0.3102 - val_accuracy: 0.9525\n",
            "Epoch 59/100\n",
            "300/300 [==============================] - 1s 3ms/step - loss: 0.0609 - accuracy: 0.9675 - val_loss: 0.2855 - val_accuracy: 0.9633\n",
            "Epoch 60/100\n",
            "300/300 [==============================] - 1s 3ms/step - loss: 0.0568 - accuracy: 0.9583 - val_loss: 0.2956 - val_accuracy: 0.9683\n",
            "Epoch 61/100\n",
            "300/300 [==============================] - 1s 4ms/step - loss: 0.0557 - accuracy: 0.9650 - val_loss: 0.2827 - val_accuracy: 0.9675\n",
            "Epoch 62/100\n",
            "300/300 [==============================] - 1s 3ms/step - loss: 0.0497 - accuracy: 0.9690 - val_loss: 0.3206 - val_accuracy: 0.9717\n",
            "Epoch 63/100\n",
            "300/300 [==============================] - 1s 4ms/step - loss: 0.0642 - accuracy: 0.9563 - val_loss: 0.3800 - val_accuracy: 0.9600\n",
            "Epoch 64/100\n",
            "300/300 [==============================] - 1s 3ms/step - loss: 0.0639 - accuracy: 0.9556 - val_loss: 0.2040 - val_accuracy: 0.9675\n",
            "Epoch 65/100\n",
            "300/300 [==============================] - 1s 3ms/step - loss: 0.0650 - accuracy: 0.9640 - val_loss: 0.2192 - val_accuracy: 0.9658\n",
            "Epoch 66/100\n",
            "300/300 [==============================] - 1s 3ms/step - loss: 0.0544 - accuracy: 0.9621 - val_loss: 0.2069 - val_accuracy: 0.9683\n",
            "Epoch 67/100\n",
            "300/300 [==============================] - 1s 4ms/step - loss: 0.0596 - accuracy: 0.9623 - val_loss: 0.2821 - val_accuracy: 0.9692\n",
            "Epoch 68/100\n",
            "300/300 [==============================] - 1s 3ms/step - loss: 0.0584 - accuracy: 0.9625 - val_loss: 0.2613 - val_accuracy: 0.9700\n",
            "Epoch 69/100\n",
            "300/300 [==============================] - 1s 4ms/step - loss: 0.0568 - accuracy: 0.9615 - val_loss: 0.2680 - val_accuracy: 0.9667\n",
            "Epoch 70/100\n",
            "300/300 [==============================] - 1s 3ms/step - loss: 0.0728 - accuracy: 0.9517 - val_loss: 0.3000 - val_accuracy: 0.9733\n",
            "Epoch 71/100\n",
            "300/300 [==============================] - 1s 4ms/step - loss: 0.0514 - accuracy: 0.9683 - val_loss: 0.3582 - val_accuracy: 0.9642\n",
            "Epoch 72/100\n",
            "300/300 [==============================] - 1s 4ms/step - loss: 0.0619 - accuracy: 0.9604 - val_loss: 0.1989 - val_accuracy: 0.9667\n",
            "Epoch 73/100\n",
            "300/300 [==============================] - 1s 3ms/step - loss: 0.0566 - accuracy: 0.9627 - val_loss: 0.2902 - val_accuracy: 0.9642\n",
            "Epoch 74/100\n",
            "300/300 [==============================] - 1s 4ms/step - loss: 0.0600 - accuracy: 0.9573 - val_loss: 0.2792 - val_accuracy: 0.9658\n",
            "Epoch 75/100\n",
            "300/300 [==============================] - 1s 3ms/step - loss: 0.0511 - accuracy: 0.9625 - val_loss: 0.3659 - val_accuracy: 0.9683\n",
            "Epoch 76/100\n",
            "300/300 [==============================] - 1s 3ms/step - loss: 0.0515 - accuracy: 0.9654 - val_loss: 0.3401 - val_accuracy: 0.9642\n",
            "Epoch 77/100\n",
            "300/300 [==============================] - 1s 4ms/step - loss: 0.0557 - accuracy: 0.9658 - val_loss: 0.3208 - val_accuracy: 0.9700\n",
            "Epoch 78/100\n",
            "300/300 [==============================] - 1s 4ms/step - loss: 0.0532 - accuracy: 0.9692 - val_loss: 0.2947 - val_accuracy: 0.9658\n",
            "Epoch 79/100\n",
            "300/300 [==============================] - 1s 3ms/step - loss: 0.0585 - accuracy: 0.9671 - val_loss: 0.2429 - val_accuracy: 0.9650\n",
            "Epoch 80/100\n",
            "300/300 [==============================] - 1s 4ms/step - loss: 0.0501 - accuracy: 0.9642 - val_loss: 0.3056 - val_accuracy: 0.9650\n",
            "Epoch 81/100\n",
            "300/300 [==============================] - 1s 3ms/step - loss: 0.0559 - accuracy: 0.9590 - val_loss: 0.3181 - val_accuracy: 0.9650\n",
            "Epoch 82/100\n",
            "300/300 [==============================] - 1s 4ms/step - loss: 0.0496 - accuracy: 0.9660 - val_loss: 0.2810 - val_accuracy: 0.9642\n",
            "Epoch 83/100\n",
            "300/300 [==============================] - 1s 4ms/step - loss: 0.0574 - accuracy: 0.9579 - val_loss: 0.3196 - val_accuracy: 0.9667\n",
            "Epoch 84/100\n",
            "300/300 [==============================] - 1s 4ms/step - loss: 0.0594 - accuracy: 0.9638 - val_loss: 0.2740 - val_accuracy: 0.9633\n",
            "Epoch 85/100\n",
            "300/300 [==============================] - 1s 3ms/step - loss: 0.0560 - accuracy: 0.9619 - val_loss: 0.3210 - val_accuracy: 0.9675\n",
            "Epoch 86/100\n",
            "300/300 [==============================] - 1s 3ms/step - loss: 0.0558 - accuracy: 0.9613 - val_loss: 0.3292 - val_accuracy: 0.9667\n",
            "Epoch 87/100\n",
            "300/300 [==============================] - 1s 4ms/step - loss: 0.0568 - accuracy: 0.9583 - val_loss: 0.3042 - val_accuracy: 0.9650\n",
            "Epoch 88/100\n",
            "300/300 [==============================] - 1s 4ms/step - loss: 0.0549 - accuracy: 0.9663 - val_loss: 0.2843 - val_accuracy: 0.9617\n",
            "Epoch 89/100\n",
            "300/300 [==============================] - 1s 4ms/step - loss: 0.0505 - accuracy: 0.9646 - val_loss: 0.3617 - val_accuracy: 0.9658\n",
            "Epoch 90/100\n",
            "300/300 [==============================] - 1s 4ms/step - loss: 0.0529 - accuracy: 0.9633 - val_loss: 0.3009 - val_accuracy: 0.9625\n",
            "Epoch 91/100\n",
            "300/300 [==============================] - 1s 3ms/step - loss: 0.0830 - accuracy: 0.9544 - val_loss: 0.2474 - val_accuracy: 0.9642\n",
            "Epoch 92/100\n",
            "300/300 [==============================] - 1s 4ms/step - loss: 0.0589 - accuracy: 0.9581 - val_loss: 0.2926 - val_accuracy: 0.9633\n",
            "Epoch 93/100\n",
            "300/300 [==============================] - 1s 3ms/step - loss: 0.0467 - accuracy: 0.9685 - val_loss: 0.3255 - val_accuracy: 0.9650\n",
            "Epoch 94/100\n",
            "300/300 [==============================] - 1s 4ms/step - loss: 0.0722 - accuracy: 0.9548 - val_loss: 0.3188 - val_accuracy: 0.9667\n",
            "Epoch 95/100\n",
            "300/300 [==============================] - 1s 4ms/step - loss: 0.0516 - accuracy: 0.9663 - val_loss: 0.3453 - val_accuracy: 0.9625\n",
            "Epoch 96/100\n",
            "300/300 [==============================] - 1s 3ms/step - loss: 0.0641 - accuracy: 0.9548 - val_loss: 0.2914 - val_accuracy: 0.9650\n",
            "Epoch 97/100\n",
            "300/300 [==============================] - 1s 3ms/step - loss: 0.0567 - accuracy: 0.9629 - val_loss: 0.2884 - val_accuracy: 0.9658\n",
            "Epoch 98/100\n",
            "300/300 [==============================] - 1s 4ms/step - loss: 0.0488 - accuracy: 0.9640 - val_loss: 0.3618 - val_accuracy: 0.9650\n",
            "Epoch 99/100\n",
            "300/300 [==============================] - 1s 4ms/step - loss: 0.0545 - accuracy: 0.9671 - val_loss: 0.3022 - val_accuracy: 0.9667\n",
            "Epoch 100/100\n",
            "300/300 [==============================] - 1s 4ms/step - loss: 0.0535 - accuracy: 0.9704 - val_loss: 0.2849 - val_accuracy: 0.9675\n"
          ],
          "name": "stdout"
        }
      ]
    },
    {
      "cell_type": "code",
      "metadata": {
        "id": "Z5OmL2alWWAY",
        "colab": {
          "base_uri": "https://localhost:8080/"
        },
        "outputId": "f4c567a2-7d42-40c7-adf1-0cdb67bc0d40"
      },
      "source": [
        "model.summary()"
      ],
      "execution_count": null,
      "outputs": [
        {
          "output_type": "stream",
          "text": [
            "Model: \"sequential\"\n",
            "_________________________________________________________________\n",
            "Layer (type)                 Output Shape              Param #   \n",
            "=================================================================\n",
            "flatten (Flatten)            (None, 25088)             0         \n",
            "_________________________________________________________________\n",
            "dense (Dense)                (None, 128)               3211392   \n",
            "_________________________________________________________________\n",
            "dropout (Dropout)            (None, 128)               0         \n",
            "_________________________________________________________________\n",
            "dense_1 (Dense)              (None, 1)                 129       \n",
            "=================================================================\n",
            "Total params: 3,211,521\n",
            "Trainable params: 3,211,521\n",
            "Non-trainable params: 0\n",
            "_________________________________________________________________\n"
          ],
          "name": "stdout"
        }
      ]
    },
    {
      "cell_type": "code",
      "metadata": {
        "id": "SmxWgsP-CSSv",
        "colab": {
          "base_uri": "https://localhost:8080/",
          "height": 265
        },
        "outputId": "97a4c991-5e49-4211-ed42-041872e17159"
      },
      "source": [
        "import matplotlib.pyplot as plt\n",
        "\n",
        "acc = history.history['accuracy']\n",
        "val_acc = history.history['val_accuracy']\n",
        "loss = history.history['loss']\n",
        "val_loss = history.history['val_loss']\n",
        "epochs = range(1, len(acc) + 1)\n",
        "\n",
        "f, axes = plt.subplots(1,2,figsize=(14,4))\n",
        "\n",
        "axes[0].plot(epochs, acc, 'bo', label='Training acc')\n",
        "axes[0].plot(epochs, val_acc, 'b', label='Validation acc')\n",
        "axes[0].legend()\n",
        "\n",
        "axes[1].plot(epochs, loss, 'bo', label='Training loss')\n",
        "axes[1].plot(epochs, val_loss, 'b', label='Validation loss')\n",
        "axes[1].yaxis.set_label_position(\"right\")\n",
        "axes[1].legend()\n",
        "\n",
        "plt.show()"
      ],
      "execution_count": null,
      "outputs": [
        {
          "output_type": "display_data",
          "data": {
            "image/png": "[encoded data removed]",
            "text/plain": [
              "<Figure size 1008x288 with 2 Axes>"
            ]
          },
          "metadata": {
            "tags": [],
            "needs_background": "light"
          }
        }
      ]
    },
    {
      "cell_type": "code",
      "metadata": {
        "colab": {
          "base_uri": "https://localhost:8080/"
        },
        "id": "S5br6YcBKcaM",
        "outputId": "6297f529-4331-4859-bbb9-d1209ab5d260"
      },
      "source": [
        "test_features, test_labels = extract_features(1232, test_generator, 1)"
      ],
      "execution_count": null,
      "outputs": [
        {
          "output_type": "stream",
          "text": [
            "loop\n",
            "loop over\n"
          ],
          "name": "stdout"
        }
      ]
    },
    {
      "cell_type": "code",
      "metadata": {
        "id": "Ra1ImmsyCwOp",
        "colab": {
          "base_uri": "https://localhost:8080/"
        },
        "outputId": "1289021d-9cec-4b01-b9e2-8abd164326f4"
      },
      "source": [
        "from sklearn import metrics\n",
        "y_pred = model.predict(test_features)\n",
        "probas = np.array(y_pred)\n",
        "labels = []\n",
        "for prob in probas:\n",
        "  if prob < 0.5:\n",
        "    labels.append(0)\n",
        "  else:\n",
        "    labels.append(1)\n",
        "y_true_labels = test_labels\n",
        "y_pred_labels = labels\n",
        "from sklearn.metrics import accuracy_score, precision_score, recall_score, f1_score\n",
        "# accuracy: (tp + tn) / (p + n)\n",
        "accuracy = accuracy_score(y_true_labels, y_pred_labels)\n",
        "print('Accuracy: %f' % accuracy)\n",
        "# precision tp / (tp + fp)\n",
        "precision = precision_score(y_true_labels, y_pred_labels,pos_label='positive', average='micro')\n",
        "print('Precision: %f' % precision)\n",
        "# recall: tp / (tp + fn)\n",
        "recall = recall_score(y_true_labels, y_pred_labels, average='micro')\n",
        "print('Recall: %f' % recall)\n",
        "# f1: 2 tp / (2 tp + fp + fn)\n",
        "f1 = f1_score(y_true_labels, y_pred_labels, average='weighted')\n",
        "print('F1 score: %f' % f1)\n",
        "from sklearn.metrics import classification_report\n",
        "print(classification_report(y_true_labels, y_pred_labels, target_names=[\"covid\", \"normal\"]))\n",
        "from sklearn.metrics import confusion_matrix\n",
        "confusion_matrix(y_true_labels, y_pred_labels)"
      ],
      "execution_count": null,
      "outputs": [
        {
          "output_type": "stream",
          "text": [
            "Accuracy: 0.972403\n",
            "Precision: 0.972403\n",
            "Recall: 0.972403\n",
            "F1 score: 0.972397\n",
            "              precision    recall  f1-score   support\n",
            "\n",
            "       covid       0.99      0.96      0.97       616\n",
            "      normal       0.96      0.99      0.97       616\n",
            "\n",
            "    accuracy                           0.97      1232\n",
            "   macro avg       0.97      0.97      0.97      1232\n",
            "weighted avg       0.97      0.97      0.97      1232\n",
            "\n"
          ],
          "name": "stdout"
        },
        {
          "output_type": "stream",
          "text": [
            "/usr/local/lib/python3.7/dist-packages/sklearn/metrics/_classification.py:1321: UserWarning: Note that pos_label (set to 'positive') is ignored when average != 'binary' (got 'micro'). You may use labels=[pos_label] to specify a single positive class.\n",
            "  % (pos_label, average), UserWarning)\n"
          ],
          "name": "stderr"
        },
        {
          "output_type": "execute_result",
          "data": {
            "text/plain": [
              "array([[590,  26],\n",
              "       [  8, 608]])"
            ]
          },
          "metadata": {
            "tags": []
          },
          "execution_count": 34
        }
      ]
    }
  ]
}