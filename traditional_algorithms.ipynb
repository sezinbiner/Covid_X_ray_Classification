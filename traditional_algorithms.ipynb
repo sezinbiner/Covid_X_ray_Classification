{
  "nbformat": 4,
  "nbformat_minor": 0,
  "metadata": {
    "accelerator": "GPU",
    "colab": {
      "name": "traditional_algorithms.ipynb",
      "provenance": [],
      "collapsed_sections": [],
      "include_colab_link": true
    },
    "kernelspec": {
      "display_name": "Python 3",
      "name": "python3"
    },
    "language_info": {
      "name": "python"
    }
  },
  "cells": [
    {
      "cell_type": "markdown",
      "metadata": {
        "id": "view-in-github",
        "colab_type": "text"
      },
      "source": [
        "<a href=\"https://colab.research.google.com/github/sezinbiner/Covid_X_ray_Classification/blob/main/traditional_algorithms.ipynb\" target=\"_parent\"><img src=\"https://colab.research.google.com/assets/colab-badge.svg\" alt=\"Open In Colab\"/></a>"
      ]
    },
    {
      "cell_type": "code",
      "metadata": {
        "colab": {
          "base_uri": "https://localhost:8080/"
        },
        "id": "mtnWtgnIIJ0p",
        "outputId": "b191f71b-e624-4a2d-8a53-1103d9f8979c"
      },
      "source": [
        " from google.colab import drive\n",
        "drive.mount('/content/gdrive')"
      ],
      "execution_count": null,
      "outputs": [
        {
          "output_type": "stream",
          "text": [
            "Mounted at /content/gdrive\n"
          ],
          "name": "stdout"
        }
      ]
    },
    {
      "cell_type": "code",
      "metadata": {
        "colab": {
          "base_uri": "https://localhost:8080/"
        },
        "id": "kxTJRvUE3FlD",
        "outputId": "a14a7fe9-7117-4e51-81db-19be54928ef9"
      },
      "source": [
        "from tensorflow.keras.preprocessing.image import ImageDataGenerator\n",
        "train_datagen = ImageDataGenerator(rescale=1./255)\n",
        "val_datagen = ImageDataGenerator(rescale=1./255)\n",
        "test_datagen = ImageDataGenerator(rescale=1./255)\n",
        "train_dir = \"/content/gdrive/MyDrive/bitirme dataset/train\"\n",
        "test_dir = \"/content/gdrive/MyDrive/bitirme dataset/test\"\n",
        "validation_dir = \"/content/gdrive/MyDrive/bitirme dataset/validation\"\n",
        "class_names = ['covid', 'normal']\n",
        "train_generator = train_datagen.flow_from_directory(\n",
        "        train_dir,\n",
        "        target_size=(224, 224),  \n",
        "        batch_size=20,\n",
        "        shuffle=True,\n",
        "        class_mode='binary')\n",
        "validation_generator = val_datagen.flow_from_directory(\n",
        "        validation_dir,\n",
        "        target_size=(224, 224),\n",
        "        batch_size=20,\n",
        "        shuffle=True,\n",
        "        class_mode='binary')\n",
        "test_generator = test_datagen.flow_from_directory(\n",
        "        test_dir,\n",
        "        target_size=(224, 224),\n",
        "        batch_size=1,\n",
        "        class_mode='binary')"
      ],
      "execution_count": null,
      "outputs": [
        {
          "output_type": "stream",
          "text": [
            "Found 4800 images belonging to 2 classes.\n",
            "Found 1200 images belonging to 2 classes.\n",
            "Found 1232 images belonging to 2 classes.\n"
          ],
          "name": "stdout"
        }
      ]
    },
    {
      "cell_type": "code",
      "metadata": {
        "id": "Ljyk1hmd31sI"
      },
      "source": [
        "def extract_features(number_of_images, generator, batch_size):\n",
        "  features = np.zeros(shape=(number_of_images, extraction_layer.output_shape[1], extraction_layer.output_shape[2], extraction_layer.output_shape[3]))\n",
        "  labels = np.zeros(shape=(number_of_images))\n",
        "  i = 0\n",
        "  print(\"loop\")\n",
        "  for inputs_batch, labels_batch in generator:\n",
        "      #print(i)\n",
        "      features_batch = extraction_layer.predict(inputs_batch)\n",
        "      features[i * batch_size : (i + 1) * batch_size] = features_batch\n",
        "      labels[i * batch_size : (i + 1) * batch_size] = labels_batch\n",
        "      i += 1\n",
        "      if i * batch_size >= number_of_images:\n",
        "          break\n",
        "  print(\"loop over\")\n",
        "  return features, labels"
      ],
      "execution_count": null,
      "outputs": []
    },
    {
      "cell_type": "code",
      "metadata": {
        "colab": {
          "base_uri": "https://localhost:8080/"
        },
        "id": "W5AvNZH7ISdE",
        "outputId": "b351256a-efe2-4495-b40c-13d9e426b40f"
      },
      "source": [
        "from keras.preprocessing import image\n",
        "from keras.applications.vgg16 import VGG16\n",
        "import numpy as np\n",
        "\n",
        "extraction_layer = VGG16(\n",
        "    weights='imagenet',\n",
        "    include_top=False,\n",
        "    input_shape=(224,224,3)\n",
        ")\n",
        "extraction_layer.summary()"
      ],
      "execution_count": null,
      "outputs": [
        {
          "output_type": "stream",
          "text": [
            "Downloading data from https://storage.googleapis.com/tensorflow/keras-applications/vgg16/vgg16_weights_tf_dim_ordering_tf_kernels_notop.h5\n",
            "58892288/58889256 [==============================] - 1s 0us/step\n",
            "58900480/58889256 [==============================] - 1s 0us/step\n",
            "Model: \"vgg16\"\n",
            "_________________________________________________________________\n",
            "Layer (type)                 Output Shape              Param #   \n",
            "=================================================================\n",
            "input_1 (InputLayer)         [(None, 224, 224, 3)]     0         \n",
            "_________________________________________________________________\n",
            "block1_conv1 (Conv2D)        (None, 224, 224, 64)      1792      \n",
            "_________________________________________________________________\n",
            "block1_conv2 (Conv2D)        (None, 224, 224, 64)      36928     \n",
            "_________________________________________________________________\n",
            "block1_pool (MaxPooling2D)   (None, 112, 112, 64)      0         \n",
            "_________________________________________________________________\n",
            "block2_conv1 (Conv2D)        (None, 112, 112, 128)     73856     \n",
            "_________________________________________________________________\n",
            "block2_conv2 (Conv2D)        (None, 112, 112, 128)     147584    \n",
            "_________________________________________________________________\n",
            "block2_pool (MaxPooling2D)   (None, 56, 56, 128)       0         \n",
            "_________________________________________________________________\n",
            "block3_conv1 (Conv2D)        (None, 56, 56, 256)       295168    \n",
            "_________________________________________________________________\n",
            "block3_conv2 (Conv2D)        (None, 56, 56, 256)       590080    \n",
            "_________________________________________________________________\n",
            "block3_conv3 (Conv2D)        (None, 56, 56, 256)       590080    \n",
            "_________________________________________________________________\n",
            "block3_pool (MaxPooling2D)   (None, 28, 28, 256)       0         \n",
            "_________________________________________________________________\n",
            "block4_conv1 (Conv2D)        (None, 28, 28, 512)       1180160   \n",
            "_________________________________________________________________\n",
            "block4_conv2 (Conv2D)        (None, 28, 28, 512)       2359808   \n",
            "_________________________________________________________________\n",
            "block4_conv3 (Conv2D)        (None, 28, 28, 512)       2359808   \n",
            "_________________________________________________________________\n",
            "block4_pool (MaxPooling2D)   (None, 14, 14, 512)       0         \n",
            "_________________________________________________________________\n",
            "block5_conv1 (Conv2D)        (None, 14, 14, 512)       2359808   \n",
            "_________________________________________________________________\n",
            "block5_conv2 (Conv2D)        (None, 14, 14, 512)       2359808   \n",
            "_________________________________________________________________\n",
            "block5_conv3 (Conv2D)        (None, 14, 14, 512)       2359808   \n",
            "_________________________________________________________________\n",
            "block5_pool (MaxPooling2D)   (None, 7, 7, 512)         0         \n",
            "=================================================================\n",
            "Total params: 14,714,688\n",
            "Trainable params: 14,714,688\n",
            "Non-trainable params: 0\n",
            "_________________________________________________________________\n"
          ],
          "name": "stdout"
        }
      ]
    },
    {
      "cell_type": "code",
      "metadata": {
        "id": "aitwo7k3_Ib_"
      },
      "source": [
        "train_features, train_labels = extract_features(4800, train_generator, 20)\n",
        "test_features, test_labels = extract_features(1232, test_generator, 1)"
      ],
      "execution_count": null,
      "outputs": []
    },
    {
      "cell_type": "code",
      "metadata": {
        "id": "1mYV_HKDpn2K"
      },
      "source": [
        "import numpy as np\n",
        "import matplotlib.pyplot as plt\n",
        "import os\n",
        "import cv2\n",
        "import pandas as pd\n",
        "import sklearn"
      ],
      "execution_count": null,
      "outputs": []
    },
    {
      "cell_type": "code",
      "metadata": {
        "id": "LyeYO1phnISW"
      },
      "source": [
        "def knn(x_train,y_train,x_test,y_test):\n",
        "    rand_x = []\n",
        "    rand_test = []\n",
        "    for img in x_train:\n",
        "      t=np.ravel(img)\n",
        "      rand_x.append(t)\n",
        "    for img in x_test:\n",
        "      t=np.ravel(img)\n",
        "      rand_test.append(t)\n",
        "    pixels = pd.DataFrame(rand_x)\n",
        "    labels = pd.DataFrame(y_train)\n",
        "    from sklearn.neighbors import KNeighborsClassifier\n",
        "    knn = KNeighborsClassifier(algorithm='auto', leaf_size=30, metric='minkowski',\n",
        "                     metric_params=None, n_jobs=None, n_neighbors=20, p=2,\n",
        "                     weights='distance')\n",
        "\n",
        "    knn.fit(rand_x,y_train)\n",
        "    y_pred=knn.predict(rand_test)\n",
        "    from sklearn import metrics\n",
        "    print(\"Accuracy:\",metrics.accuracy_score(y_test, y_pred))\n",
        "    print(\"Test data metrics:\")\n",
        "    print(sklearn.metrics.classification_report(y_true= y_test, y_pred= y_pred))\n",
        "\n",
        "    return metrics.accuracy_score(y_test, y_pred)"
      ],
      "execution_count": null,
      "outputs": []
    },
    {
      "cell_type": "code",
      "metadata": {
        "colab": {
          "base_uri": "https://localhost:8080/"
        },
        "id": "Gr2u_vWpq143",
        "outputId": "3de7107a-b4b0-440a-c18d-689c1ef769e0"
      },
      "source": [
        "knn(train_features,train_labels,test_features,test_labels)"
      ],
      "execution_count": null,
      "outputs": [
        {
          "output_type": "stream",
          "text": [
            "Accuracy: 0.9512987012987013\n",
            "Test data metrics:\n",
            "              precision    recall  f1-score   support\n",
            "\n",
            "         0.0       0.95      0.95      0.95       616\n",
            "         1.0       0.95      0.95      0.95       616\n",
            "\n",
            "    accuracy                           0.95      1232\n",
            "   macro avg       0.95      0.95      0.95      1232\n",
            "weighted avg       0.95      0.95      0.95      1232\n",
            "\n"
          ],
          "name": "stdout"
        },
        {
          "output_type": "execute_result",
          "data": {
            "text/plain": [
              "0.9512987012987013"
            ]
          },
          "metadata": {
            "tags": []
          },
          "execution_count": 12
        }
      ]
    },
    {
      "cell_type": "code",
      "metadata": {
        "id": "Q6u0BCZvtdAj"
      },
      "source": [
        "def SVM(x_train,y_train,x_test,y_test):\n",
        "    \n",
        "    rand_x = []\n",
        "    rand_test = []\n",
        "    for img in x_train:\n",
        "      t=np.ravel(img)\n",
        "      rand_x.append(t)\n",
        "    for img in x_test:\n",
        "      t=np.ravel(img)\n",
        "      rand_test.append(t)\n",
        "    pixels = pd.DataFrame(rand_x)\n",
        "    labels = pd.DataFrame(y_train)\n",
        "    from sklearn.svm import SVC\n",
        "    svc=SVC(kernel='rbf')\n",
        "    svc.fit(rand_x,y_train)\n",
        "    y_pred=svc.predict(rand_test)\n",
        "    from sklearn import metrics\n",
        "    print(\"Accuracy:\",metrics.accuracy_score(y_test, y_pred))\n",
        "    print(\"Test data metrics:\")\n",
        "    print(sklearn.metrics.classification_report(y_true= y_test, y_pred= y_pred))\n",
        "\n",
        "    return metrics.accuracy_score(y_test, y_pred)\n"
      ],
      "execution_count": null,
      "outputs": []
    },
    {
      "cell_type": "code",
      "metadata": {
        "colab": {
          "base_uri": "https://localhost:8080/"
        },
        "id": "uywzJ5LjtmXR",
        "outputId": "30f488b9-65c4-4e3a-e1d6-42b048d32909"
      },
      "source": [
        "SVM(train_features,train_labels,test_features,test_labels)"
      ],
      "execution_count": null,
      "outputs": [
        {
          "output_type": "stream",
          "text": [
            "Accuracy: 0.9448051948051948\n",
            "Test data metrics:\n",
            "              precision    recall  f1-score   support\n",
            "\n",
            "         0.0       0.95      0.94      0.94       616\n",
            "         1.0       0.94      0.95      0.95       616\n",
            "\n",
            "    accuracy                           0.94      1232\n",
            "   macro avg       0.94      0.94      0.94      1232\n",
            "weighted avg       0.94      0.94      0.94      1232\n",
            "\n"
          ],
          "name": "stdout"
        },
        {
          "output_type": "execute_result",
          "data": {
            "text/plain": [
              "0.9448051948051948"
            ]
          },
          "metadata": {
            "tags": []
          },
          "execution_count": 15
        }
      ]
    },
    {
      "cell_type": "code",
      "metadata": {
        "id": "RbRfnuBYvrVY"
      },
      "source": [
        "def random_forest(x_train,y_train,x_test,y_test):\n",
        "    \n",
        "    rand_x = []\n",
        "    rand_test = []\n",
        "    for img in x_train:\n",
        "      t=np.ravel(img)\n",
        "      rand_x.append(t)\n",
        "    for img in x_test:\n",
        "      t=np.ravel(img)\n",
        "      rand_test.append(t)\n",
        "    pixels = pd.DataFrame(rand_x)\n",
        "    labels = pd.DataFrame(y_train)\n",
        "    from sklearn.ensemble import RandomForestClassifier\n",
        "    rf=RandomForestClassifier(bootstrap=True, ccp_alpha=0.0, class_weight='balanced',\n",
        "                       criterion='gini', max_depth=None, max_features='auto',\n",
        "                       max_leaf_nodes=None, max_samples=None,\n",
        "                       min_impurity_decrease=0.0, min_impurity_split=None,\n",
        "                       min_samples_leaf=2, min_samples_split=2,\n",
        "                       min_weight_fraction_leaf=0.0, n_estimators=200, n_jobs=1,\n",
        "                       oob_score=False, random_state=None, verbose=0,\n",
        "                       warm_start=False)\n",
        "    rf.fit(rand_x,y_train)\n",
        "    y_pred=rf.predict(rand_test)\n",
        "    from sklearn import metrics\n",
        "    print(\"Accuracy:\",metrics.accuracy_score(y_test, y_pred))\n",
        "    print(\"Test data metrics:\")\n",
        "    print(sklearn.metrics.classification_report(y_true= y_test, y_pred= y_pred))\n",
        "\n",
        "    return metrics.accuracy_score(y_test, y_pred)"
      ],
      "execution_count": null,
      "outputs": []
    },
    {
      "cell_type": "code",
      "metadata": {
        "id": "62WhTokzv4Tg",
        "colab": {
          "base_uri": "https://localhost:8080/"
        },
        "outputId": "201c148e-d39b-4b1f-f6b7-f06666236f54"
      },
      "source": [
        "random_forest(train_features,train_labels,test_features,test_labels)"
      ],
      "execution_count": null,
      "outputs": [
        {
          "output_type": "stream",
          "text": [
            "Accuracy: 0.939935064935065\n",
            "Test data metrics:\n",
            "              precision    recall  f1-score   support\n",
            "\n",
            "         0.0       0.94      0.94      0.94       616\n",
            "         1.0       0.94      0.94      0.94       616\n",
            "\n",
            "    accuracy                           0.94      1232\n",
            "   macro avg       0.94      0.94      0.94      1232\n",
            "weighted avg       0.94      0.94      0.94      1232\n",
            "\n"
          ],
          "name": "stdout"
        },
        {
          "output_type": "execute_result",
          "data": {
            "text/plain": [
              "0.939935064935065"
            ]
          },
          "metadata": {
            "tags": []
          },
          "execution_count": 17
        }
      ]
    }
  ]
}