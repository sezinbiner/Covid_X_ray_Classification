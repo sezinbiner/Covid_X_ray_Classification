{
  "nbformat": 4,
  "nbformat_minor": 0,
  "metadata": {
    "colab": {
      "name": "load_model.ipynb",
      "provenance": [],
      "authorship_tag": "ABX9TyMRQ9Lg0KaSu7U2khs5/NDA",
      "include_colab_link": true
    },
    "kernelspec": {
      "name": "python3",
      "display_name": "Python 3"
    },
    "language_info": {
      "name": "python"
    }
  },
  "cells": [
    {
      "cell_type": "markdown",
      "metadata": {
        "id": "view-in-github",
        "colab_type": "text"
      },
      "source": [
        "<a href=\"https://colab.research.google.com/github/sezinbiner/Covid_X_ray_Classification/blob/main/load_model.ipynb\" target=\"_parent\"><img src=\"https://colab.research.google.com/assets/colab-badge.svg\" alt=\"Open In Colab\"/></a>"
      ]
    },
    {
      "cell_type": "code",
      "metadata": {
        "colab": {
          "base_uri": "https://localhost:8080/"
        },
        "id": "PlbEq0SeEXRo",
        "outputId": "8234b8c0-e23e-468c-dfc6-5995666511d2"
      },
      "source": [
        " from google.colab import drive\n",
        "drive.mount('/content/gdrive')"
      ],
      "execution_count": 2,
      "outputs": [
        {
          "output_type": "stream",
          "text": [
            "Mounted at /content/gdrive\n"
          ],
          "name": "stdout"
        }
      ]
    },
    {
      "cell_type": "code",
      "metadata": {
        "colab": {
          "base_uri": "https://localhost:8080/"
        },
        "id": "i46X25cME-Qt",
        "outputId": "e0d3ce0e-81a9-45c6-d27b-61747ff154c5"
      },
      "source": [
        "from tensorflow.keras.preprocessing.image import ImageDataGenerator\n",
        "test_datagen = ImageDataGenerator(rescale=1./255)\n",
        "test_dir = \"/content/gdrive/MyDrive/bitirme dataset/test\"\n",
        "test_generator = test_datagen.flow_from_directory(\n",
        "        test_dir,\n",
        "        target_size=(224, 224),\n",
        "        batch_size=1,\n",
        "        class_mode='binary')"
      ],
      "execution_count": 7,
      "outputs": [
        {
          "output_type": "stream",
          "text": [
            "Found 1232 images belonging to 2 classes.\n"
          ],
          "name": "stdout"
        }
      ]
    },
    {
      "cell_type": "code",
      "metadata": {
        "id": "dvX-BpraFBGL"
      },
      "source": [
        "def extract_features(number_of_images, generator, batch_size):\n",
        "  features = np.zeros(shape=(number_of_images, extraction_layer.output_shape[1], extraction_layer.output_shape[2], extraction_layer.output_shape[3]))\n",
        "  labels = np.zeros(shape=(number_of_images))\n",
        "  i = 0\n",
        "  print(\"loop\")\n",
        "  for inputs_batch, labels_batch in generator:\n",
        "      #print(i)\n",
        "      features_batch = extraction_layer.predict(inputs_batch)\n",
        "      features[i * batch_size : (i + 1) * batch_size] = features_batch\n",
        "      labels[i * batch_size : (i + 1) * batch_size] = labels_batch\n",
        "      i += 1\n",
        "      if i * batch_size >= number_of_images:\n",
        "          break\n",
        "  print(\"loop over\")\n",
        "  return features, labels"
      ],
      "execution_count": 15,
      "outputs": []
    },
    {
      "cell_type": "code",
      "metadata": {
        "id": "GtBCcRIoFpgJ"
      },
      "source": [
        "from keras.preprocessing import image\n",
        "from keras.applications.vgg16 import VGG16\n",
        "from keras.applications.inception_v3 import  InceptionV3\n",
        "from tensorflow.python.keras.applications.densenet import DenseNet201\n",
        "import numpy as np\n",
        "from keras.models import Model\n",
        "\n",
        "extraction = DenseNet201(\n",
        "    weights='imagenet',\n",
        "    include_top=False,\n",
        "    input_shape=(224,224,3)\n",
        ")\n",
        "\n",
        "extraction.summary()\n",
        "extraction_layer = Model(extraction.input, extraction.layers[-6].output)\n",
        "test_features, test_labels = extract_features(1232, test_generator, 1)"
      ],
      "execution_count": null,
      "outputs": []
    },
    {
      "cell_type": "code",
      "metadata": {
        "id": "Q7_mId7aEKij"
      },
      "source": [
        "from keras.models import load_model\n",
        "dense_net_model = load_model(\"/content/gdrive/MyDrive/model_k_fold/densenet_fold1.h5\")"
      ],
      "execution_count": 17,
      "outputs": []
    },
    {
      "cell_type": "code",
      "metadata": {
        "colab": {
          "base_uri": "https://localhost:8080/"
        },
        "id": "4LdeFzCnH5dP",
        "outputId": "8f81fde6-a4eb-41ce-c00a-539224f3fe0a"
      },
      "source": [
        "dense_net_model.summary()"
      ],
      "execution_count": 18,
      "outputs": [
        {
          "output_type": "stream",
          "text": [
            "Model: \"sequential\"\n",
            "_________________________________________________________________\n",
            "Layer (type)                 Output Shape              Param #   \n",
            "=================================================================\n",
            "flatten (Flatten)            (None, 6272)              0         \n",
            "_________________________________________________________________\n",
            "dense (Dense)                (None, 128)               802944    \n",
            "_________________________________________________________________\n",
            "dropout (Dropout)            (None, 128)               0         \n",
            "_________________________________________________________________\n",
            "dense_1 (Dense)              (None, 1)                 129       \n",
            "=================================================================\n",
            "Total params: 803,073\n",
            "Trainable params: 803,073\n",
            "Non-trainable params: 0\n",
            "_________________________________________________________________\n"
          ],
          "name": "stdout"
        }
      ]
    },
    {
      "cell_type": "code",
      "metadata": {
        "colab": {
          "base_uri": "https://localhost:8080/"
        },
        "id": "wc8Gq6ktKNFj",
        "outputId": "8180bcc5-3ccf-4371-b575-770ebf368c2e"
      },
      "source": [
        "from sklearn import metrics\n",
        "y_pred = dense_net_model.predict(test_features)\n",
        "probas = np.array(y_pred)\n",
        "labels = []\n",
        "for prob in probas:\n",
        "  if prob < 0.5:\n",
        "    labels.append(0)\n",
        "  else:\n",
        "    labels.append(1)\n",
        "y_true_labels = test_labels\n",
        "y_pred_labels = labels\n",
        "from sklearn.metrics import accuracy_score, precision_score, recall_score, f1_score\n",
        "# accuracy: (tp + tn) / (p + n)\n",
        "accuracy = accuracy_score(y_true_labels, y_pred_labels)\n",
        "print('Accuracy: %f' % accuracy)\n",
        "# precision tp / (tp + fp)\n",
        "precision = precision_score(y_true_labels, y_pred_labels,pos_label='positive', average='micro')\n",
        "print('Precision: %f' % precision)\n",
        "# recall: tp / (tp + fn)\n",
        "recall = recall_score(y_true_labels, y_pred_labels, average='micro')\n",
        "print('Recall: %f' % recall)\n",
        "# f1: 2 tp / (2 tp + fp + fn)\n",
        "f1 = f1_score(y_true_labels, y_pred_labels, average='weighted')\n",
        "print('F1 score: %f' % f1)\n",
        "from sklearn.metrics import classification_report\n",
        "print(classification_report(y_true_labels, y_pred_labels, target_names=[\"covid\", \"normal\"]))\n",
        "from sklearn.metrics import confusion_matrix\n",
        "confusion_matrix(y_true_labels, y_pred_labels)"
      ],
      "execution_count": 20,
      "outputs": [
        {
          "output_type": "stream",
          "text": [
            "Accuracy: 0.890422\n",
            "Precision: 0.890422\n",
            "Recall: 0.890422\n",
            "F1 score: 0.889226\n",
            "              precision    recall  f1-score   support\n",
            "\n",
            "       covid       0.82      0.99      0.90       617\n",
            "      normal       0.99      0.79      0.88       615\n",
            "\n",
            "    accuracy                           0.89      1232\n",
            "   macro avg       0.91      0.89      0.89      1232\n",
            "weighted avg       0.91      0.89      0.89      1232\n",
            "\n"
          ],
          "name": "stdout"
        },
        {
          "output_type": "stream",
          "text": [
            "/usr/local/lib/python3.7/dist-packages/sklearn/metrics/_classification.py:1321: UserWarning: Note that pos_label (set to 'positive') is ignored when average != 'binary' (got 'micro'). You may use labels=[pos_label] to specify a single positive class.\n",
            "  % (pos_label, average), UserWarning)\n"
          ],
          "name": "stderr"
        },
        {
          "output_type": "execute_result",
          "data": {
            "text/plain": [
              "array([[613,   4],\n",
              "       [131, 484]])"
            ]
          },
          "metadata": {
            "tags": []
          },
          "execution_count": 20
        }
      ]
    }
  ]
}