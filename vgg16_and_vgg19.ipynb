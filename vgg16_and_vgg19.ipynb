{
  "nbformat": 4,
  "nbformat_minor": 0,
  "metadata": {
    "accelerator": "GPU",
    "colab": {
      "name": "vgg16_and_vgg19.ipynb",
      "provenance": [],
      "collapsed_sections": [],
      "include_colab_link": true
    },
    "kernelspec": {
      "display_name": "Python 3",
      "name": "python3"
    },
    "language_info": {
      "name": "python"
    }
  },
  "cells": [
    {
      "cell_type": "markdown",
      "metadata": {
        "id": "view-in-github",
        "colab_type": "text"
      },
      "source": [
        "<a href=\"https://colab.research.google.com/github/sezinbiner/Covid_X_ray_Classification/blob/main/vgg16_and_vgg19.ipynb\" target=\"_parent\"><img src=\"https://colab.research.google.com/assets/colab-badge.svg\" alt=\"Open In Colab\"/></a>"
      ]
    },
    {
      "cell_type": "code",
      "metadata": {
        "colab": {
          "base_uri": "https://localhost:8080/"
        },
        "id": "mtnWtgnIIJ0p",
        "outputId": "b6dc3c0f-bcd7-49df-d255-be5300336efe"
      },
      "source": [
        " from google.colab import drive\n",
        "drive.mount('/content/gdrive')"
      ],
      "execution_count": null,
      "outputs": [
        {
          "output_type": "stream",
          "text": [
            "Drive already mounted at /content/gdrive; to attempt to forcibly remount, call drive.mount(\"/content/gdrive\", force_remount=True).\n"
          ],
          "name": "stdout"
        }
      ]
    },
    {
      "cell_type": "code",
      "metadata": {
        "colab": {
          "base_uri": "https://localhost:8080/"
        },
        "id": "kxTJRvUE3FlD",
        "outputId": "9055f8e3-021d-45de-d537-c47ac74970e5"
      },
      "source": [
        "from tensorflow.keras.preprocessing.image import ImageDataGenerator\n",
        "train_datagen = ImageDataGenerator(rescale=1./255)\n",
        "val_datagen = ImageDataGenerator(rescale=1./255)\n",
        "test_datagen = ImageDataGenerator(rescale=1./255)\n",
        "train_dir = \"/content/gdrive/MyDrive/bitirme dataset/train\"\n",
        "test_dir = \"/content/gdrive/MyDrive/bitirme dataset/test\"\n",
        "validation_dir = \"/content/gdrive/MyDrive/bitirme dataset/validation\"\n",
        "class_names = ['covid', 'normal']\n",
        "train_generator = train_datagen.flow_from_directory(\n",
        "        train_dir,\n",
        "        target_size=(224, 224),  \n",
        "        batch_size=20,\n",
        "        shuffle=True,\n",
        "        class_mode='binary')\n",
        "validation_generator = val_datagen.flow_from_directory(\n",
        "        validation_dir,\n",
        "        target_size=(224, 224),\n",
        "        batch_size=20,\n",
        "        shuffle=True,\n",
        "        class_mode='binary')\n",
        "test_generator = test_datagen.flow_from_directory(\n",
        "        test_dir,\n",
        "        target_size=(224, 224),\n",
        "        batch_size=1,\n",
        "        class_mode='binary')"
      ],
      "execution_count": null,
      "outputs": [
        {
          "output_type": "stream",
          "text": [
            "Found 4800 images belonging to 2 classes.\n",
            "Found 1200 images belonging to 2 classes.\n",
            "Found 1232 images belonging to 2 classes.\n"
          ],
          "name": "stdout"
        }
      ]
    },
    {
      "cell_type": "code",
      "metadata": {
        "id": "Ljyk1hmd31sI"
      },
      "source": [
        "def extract_features(number_of_images, generator, batch_size):\n",
        "  features = np.zeros(shape=(number_of_images, extraction_layer.output_shape[1], extraction_layer.output_shape[2], extraction_layer.output_shape[3]))\n",
        "  labels = np.zeros(shape=(number_of_images))\n",
        "  i = 0\n",
        "  print(\"loop\")\n",
        "  for inputs_batch, labels_batch in generator:\n",
        "      #print(i)\n",
        "      features_batch = extraction_layer.predict(inputs_batch)\n",
        "      features[i * batch_size : (i + 1) * batch_size] = features_batch\n",
        "      labels[i * batch_size : (i + 1) * batch_size] = labels_batch\n",
        "      i += 1\n",
        "      if i * batch_size >= number_of_images:\n",
        "          break\n",
        "  print(\"loop over\")\n",
        "  return features, labels"
      ],
      "execution_count": null,
      "outputs": []
    },
    {
      "cell_type": "code",
      "metadata": {
        "colab": {
          "base_uri": "https://localhost:8080/"
        },
        "id": "W5AvNZH7ISdE",
        "outputId": "e3d911c2-4aea-4c94-bae3-d19836199215"
      },
      "source": [
        "from keras.preprocessing import image\n",
        "from keras.applications.vgg16 import VGG16\n",
        "from keras.applications.inception_v3 import  InceptionV3\n",
        "import numpy as np\n",
        "\n",
        "extraction_layer = VGG16(\n",
        "    weights='imagenet',\n",
        "    include_top=False,\n",
        "    input_shape=(224,224,3)\n",
        ")\n",
        "extraction_layer.summary()"
      ],
      "execution_count": null,
      "outputs": [
        {
          "output_type": "stream",
          "text": [
            "Model: \"vgg16\"\n",
            "_________________________________________________________________\n",
            "Layer (type)                 Output Shape              Param #   \n",
            "=================================================================\n",
            "input_1 (InputLayer)         [(None, 224, 224, 3)]     0         \n",
            "_________________________________________________________________\n",
            "block1_conv1 (Conv2D)        (None, 224, 224, 64)      1792      \n",
            "_________________________________________________________________\n",
            "block1_conv2 (Conv2D)        (None, 224, 224, 64)      36928     \n",
            "_________________________________________________________________\n",
            "block1_pool (MaxPooling2D)   (None, 112, 112, 64)      0         \n",
            "_________________________________________________________________\n",
            "block2_conv1 (Conv2D)        (None, 112, 112, 128)     73856     \n",
            "_________________________________________________________________\n",
            "block2_conv2 (Conv2D)        (None, 112, 112, 128)     147584    \n",
            "_________________________________________________________________\n",
            "block2_pool (MaxPooling2D)   (None, 56, 56, 128)       0         \n",
            "_________________________________________________________________\n",
            "block3_conv1 (Conv2D)        (None, 56, 56, 256)       295168    \n",
            "_________________________________________________________________\n",
            "block3_conv2 (Conv2D)        (None, 56, 56, 256)       590080    \n",
            "_________________________________________________________________\n",
            "block3_conv3 (Conv2D)        (None, 56, 56, 256)       590080    \n",
            "_________________________________________________________________\n",
            "block3_pool (MaxPooling2D)   (None, 28, 28, 256)       0         \n",
            "_________________________________________________________________\n",
            "block4_conv1 (Conv2D)        (None, 28, 28, 512)       1180160   \n",
            "_________________________________________________________________\n",
            "block4_conv2 (Conv2D)        (None, 28, 28, 512)       2359808   \n",
            "_________________________________________________________________\n",
            "block4_conv3 (Conv2D)        (None, 28, 28, 512)       2359808   \n",
            "_________________________________________________________________\n",
            "block4_pool (MaxPooling2D)   (None, 14, 14, 512)       0         \n",
            "_________________________________________________________________\n",
            "block5_conv1 (Conv2D)        (None, 14, 14, 512)       2359808   \n",
            "_________________________________________________________________\n",
            "block5_conv2 (Conv2D)        (None, 14, 14, 512)       2359808   \n",
            "_________________________________________________________________\n",
            "block5_conv3 (Conv2D)        (None, 14, 14, 512)       2359808   \n",
            "_________________________________________________________________\n",
            "block5_pool (MaxPooling2D)   (None, 7, 7, 512)         0         \n",
            "=================================================================\n",
            "Total params: 14,714,688\n",
            "Trainable params: 14,714,688\n",
            "Non-trainable params: 0\n",
            "_________________________________________________________________\n"
          ],
          "name": "stdout"
        }
      ]
    },
    {
      "cell_type": "code",
      "metadata": {
        "id": "aitwo7k3_Ib_"
      },
      "source": [
        "train_features_VGG16, train_labels_VGG16 = extract_features(4800, train_generator, 20)\n",
        "validation_features_VGG16, validation_labels_VGG16 = extract_features(1200, validation_generator, 20)\n",
        "test_features_VGG16, test_labels_VGG16 = extract_features(1232, test_generator, 1)"
      ],
      "execution_count": null,
      "outputs": []
    },
    {
      "cell_type": "code",
      "metadata": {
        "id": "S5Vus5RfFTEw",
        "colab": {
          "base_uri": "https://localhost:8080/"
        },
        "outputId": "3eb6575d-5d67-48cf-9a4d-4ae89efcfee9"
      },
      "source": [
        "from keras.preprocessing import image\n",
        "from keras.applications.vgg16 import VGG16\n",
        "from keras.applications.inception_v3 import  InceptionV3\n",
        "from tensorflow.python.keras.applications.nasnet import NASNetMobile\n",
        "import numpy as np\n",
        "\n",
        "extraction_layer = VGG19(\n",
        "    weights='imagenet',\n",
        "    include_top=False,\n",
        "    input_shape=(224,224,3)\n",
        ")\n",
        "extraction_layer.summary()"
      ],
      "execution_count": null,
      "outputs": [
        {
          "output_type": "stream",
          "text": [
            "Downloading data from https://storage.googleapis.com/tensorflow/keras-applications/vgg19/vgg19_weights_tf_dim_ordering_tf_kernels_notop.h5\n",
            "80142336/80134624 [==============================] - 0s 0us/step\n",
            "Model: \"vgg19\"\n",
            "_________________________________________________________________\n",
            "Layer (type)                 Output Shape              Param #   \n",
            "=================================================================\n",
            "input_1 (InputLayer)         [(None, 224, 224, 3)]     0         \n",
            "_________________________________________________________________\n",
            "block1_conv1 (Conv2D)        (None, 224, 224, 64)      1792      \n",
            "_________________________________________________________________\n",
            "block1_conv2 (Conv2D)        (None, 224, 224, 64)      36928     \n",
            "_________________________________________________________________\n",
            "block1_pool (MaxPooling2D)   (None, 112, 112, 64)      0         \n",
            "_________________________________________________________________\n",
            "block2_conv1 (Conv2D)        (None, 112, 112, 128)     73856     \n",
            "_________________________________________________________________\n",
            "block2_conv2 (Conv2D)        (None, 112, 112, 128)     147584    \n",
            "_________________________________________________________________\n",
            "block2_pool (MaxPooling2D)   (None, 56, 56, 128)       0         \n",
            "_________________________________________________________________\n",
            "block3_conv1 (Conv2D)        (None, 56, 56, 256)       295168    \n",
            "_________________________________________________________________\n",
            "block3_conv2 (Conv2D)        (None, 56, 56, 256)       590080    \n",
            "_________________________________________________________________\n",
            "block3_conv3 (Conv2D)        (None, 56, 56, 256)       590080    \n",
            "_________________________________________________________________\n",
            "block3_conv4 (Conv2D)        (None, 56, 56, 256)       590080    \n",
            "_________________________________________________________________\n",
            "block3_pool (MaxPooling2D)   (None, 28, 28, 256)       0         \n",
            "_________________________________________________________________\n",
            "block4_conv1 (Conv2D)        (None, 28, 28, 512)       1180160   \n",
            "_________________________________________________________________\n",
            "block4_conv2 (Conv2D)        (None, 28, 28, 512)       2359808   \n",
            "_________________________________________________________________\n",
            "block4_conv3 (Conv2D)        (None, 28, 28, 512)       2359808   \n",
            "_________________________________________________________________\n",
            "block4_conv4 (Conv2D)        (None, 28, 28, 512)       2359808   \n",
            "_________________________________________________________________\n",
            "block4_pool (MaxPooling2D)   (None, 14, 14, 512)       0         \n",
            "_________________________________________________________________\n",
            "block5_conv1 (Conv2D)        (None, 14, 14, 512)       2359808   \n",
            "_________________________________________________________________\n",
            "block5_conv2 (Conv2D)        (None, 14, 14, 512)       2359808   \n",
            "_________________________________________________________________\n",
            "block5_conv3 (Conv2D)        (None, 14, 14, 512)       2359808   \n",
            "_________________________________________________________________\n",
            "block5_conv4 (Conv2D)        (None, 14, 14, 512)       2359808   \n",
            "_________________________________________________________________\n",
            "block5_pool (MaxPooling2D)   (None, 7, 7, 512)         0         \n",
            "=================================================================\n",
            "Total params: 20,024,384\n",
            "Trainable params: 20,024,384\n",
            "Non-trainable params: 0\n",
            "_________________________________________________________________\n"
          ],
          "name": "stdout"
        }
      ]
    },
    {
      "cell_type": "code",
      "metadata": {
        "id": "4EILeAHmGT7r"
      },
      "source": [
        "train_features_VGG19, train_labels_VGG19 = extract_features2(4800, train_generator, 20)\n",
        "validation_features_VGG19, validation_labels_VGG19 = extract_features2(1200, validation_generator, 20)\n",
        "test_features_VGG19, test_labels_VGG19 = extract_features2(1232, test_generator, 1)"
      ],
      "execution_count": null,
      "outputs": []
    },
    {
      "cell_type": "code",
      "metadata": {
        "id": "hxdZRK4D4DbU"
      },
      "source": [
        "features = np.concatenate([train_features_VGG16, train_features_VGG19], 1)\n",
        "print(features.size)"
      ],
      "execution_count": null,
      "outputs": []
    },
    {
      "cell_type": "code",
      "metadata": {
        "id": "xC7xPYSr8F31"
      },
      "source": [
        "val_features = np.concatenate([validation_features_VGG16,validation_features_VGG19], 1)\n",
        "print(val_features.size)"
      ],
      "execution_count": null,
      "outputs": []
    },
    {
      "cell_type": "code",
      "metadata": {
        "id": "yov0XsdA8Zq0"
      },
      "source": [
        "test_features = np.concatenate([test_features_VGG16,test_features_VGG19], 1)\n",
        "print(test_features.size)"
      ],
      "execution_count": null,
      "outputs": []
    },
    {
      "cell_type": "code",
      "metadata": {
        "id": "aewLpgl9GhE0"
      },
      "source": [
        "from keras.models import Sequential\n",
        "from keras import models\n",
        "from keras import layers\n",
        "model = models.Sequential()\n",
        "model.add(layers.Flatten())\n",
        "model.add(layers.Dense(128, activation='relu'))\n",
        "model.add(layers.Dropout(0.5))\n",
        "model.add(layers.Dense(1, activation='sigmoid'))\n",
        "model.compile(\n",
        "    loss='binary_crossentropy',\n",
        "    optimizer= \"adam\" ,\n",
        "    metrics=['accuracy']\n",
        ")"
      ],
      "execution_count": null,
      "outputs": []
    },
    {
      "cell_type": "code",
      "metadata": {
        "id": "tI6YBs-5DuOv"
      },
      "source": [
        "from keras.callbacks import Callback, ModelCheckpoint\n",
        "model_checkpoint = ModelCheckpoint('/content/gdrive/My Drive/models/vgg16.h5', monitor='val_loss', mode='min', verbose=1, save_best_only=True)\n"
      ],
      "execution_count": null,
      "outputs": []
    },
    {
      "cell_type": "code",
      "metadata": {
        "colab": {
          "base_uri": "https://localhost:8080/"
        },
        "id": "Z9xnGPeTGkUB",
        "outputId": "e2de3c84-9f32-41ce-9da1-821b15aadf96"
      },
      "source": [
        "history = model.fit(features, train_labels_VGG16,\n",
        "                    epochs=15,\n",
        "                    batch_size=20,\n",
        "                    validation_data=(val_features, validation_labels_VGG16),\n",
        "                    callbacks=[model_checkpoint])"
      ],
      "execution_count": null,
      "outputs": [
        {
          "output_type": "stream",
          "text": [
            "Epoch 1/15\n",
            "300/300 [==============================] - 3s 6ms/step - loss: 1.2519 - accuracy: 0.6773 - val_loss: 0.3634 - val_accuracy: 0.8842\n",
            "\n",
            "Epoch 00001: val_loss improved from inf to 0.36342, saving model to /content/gdrive/My Drive/models/vgg16.h5\n",
            "Epoch 2/15\n",
            "300/300 [==============================] - 1s 5ms/step - loss: 0.4531 - accuracy: 0.7522 - val_loss: 0.2720 - val_accuracy: 0.9108\n",
            "\n",
            "Epoch 00002: val_loss improved from 0.36342 to 0.27200, saving model to /content/gdrive/My Drive/models/vgg16.h5\n",
            "Epoch 3/15\n",
            "300/300 [==============================] - 1s 5ms/step - loss: 0.3936 - accuracy: 0.7897 - val_loss: 0.1847 - val_accuracy: 0.9408\n",
            "\n",
            "Epoch 00003: val_loss improved from 0.27200 to 0.18467, saving model to /content/gdrive/My Drive/models/vgg16.h5\n",
            "Epoch 4/15\n",
            "300/300 [==============================] - 1s 5ms/step - loss: 0.3788 - accuracy: 0.8026 - val_loss: 0.1963 - val_accuracy: 0.9333\n",
            "\n",
            "Epoch 00004: val_loss did not improve from 0.18467\n",
            "Epoch 5/15\n",
            "300/300 [==============================] - 1s 5ms/step - loss: 0.4419 - accuracy: 0.7136 - val_loss: 0.2703 - val_accuracy: 0.9058\n",
            "\n",
            "Epoch 00005: val_loss did not improve from 0.18467\n",
            "Epoch 6/15\n",
            "300/300 [==============================] - 2s 5ms/step - loss: 0.3740 - accuracy: 0.7820 - val_loss: 0.2263 - val_accuracy: 0.9267\n",
            "\n",
            "Epoch 00006: val_loss did not improve from 0.18467\n",
            "Epoch 7/15\n",
            "300/300 [==============================] - 2s 5ms/step - loss: 0.3552 - accuracy: 0.7939 - val_loss: 0.1315 - val_accuracy: 0.9533\n",
            "\n",
            "Epoch 00007: val_loss improved from 0.18467 to 0.13146, saving model to /content/gdrive/My Drive/models/vgg16.h5\n",
            "Epoch 8/15\n",
            "300/300 [==============================] - 2s 5ms/step - loss: 0.2886 - accuracy: 0.8538 - val_loss: 0.1661 - val_accuracy: 0.9350\n",
            "\n",
            "Epoch 00008: val_loss did not improve from 0.13146\n",
            "Epoch 9/15\n",
            "300/300 [==============================] - 1s 5ms/step - loss: 0.3039 - accuracy: 0.8410 - val_loss: 0.1681 - val_accuracy: 0.9275\n",
            "\n",
            "Epoch 00009: val_loss did not improve from 0.13146\n",
            "Epoch 10/15\n",
            "300/300 [==============================] - 1s 5ms/step - loss: 0.3245 - accuracy: 0.8228 - val_loss: 0.1475 - val_accuracy: 0.9558\n",
            "\n",
            "Epoch 00010: val_loss did not improve from 0.13146\n",
            "Epoch 11/15\n",
            "300/300 [==============================] - 2s 5ms/step - loss: 0.2760 - accuracy: 0.8616 - val_loss: 0.1406 - val_accuracy: 0.9525\n",
            "\n",
            "Epoch 00011: val_loss did not improve from 0.13146\n",
            "Epoch 12/15\n",
            "300/300 [==============================] - 2s 5ms/step - loss: 0.2887 - accuracy: 0.8537 - val_loss: 0.1328 - val_accuracy: 0.9458\n",
            "\n",
            "Epoch 00012: val_loss did not improve from 0.13146\n",
            "Epoch 13/15\n",
            "300/300 [==============================] - 1s 5ms/step - loss: 0.2929 - accuracy: 0.8438 - val_loss: 0.1260 - val_accuracy: 0.9508\n",
            "\n",
            "Epoch 00013: val_loss improved from 0.13146 to 0.12599, saving model to /content/gdrive/My Drive/models/vgg16.h5\n",
            "Epoch 14/15\n",
            "300/300 [==============================] - 2s 5ms/step - loss: 0.2680 - accuracy: 0.8630 - val_loss: 0.1919 - val_accuracy: 0.9192\n",
            "\n",
            "Epoch 00014: val_loss did not improve from 0.12599\n",
            "Epoch 15/15\n",
            "300/300 [==============================] - 2s 5ms/step - loss: 0.3347 - accuracy: 0.8513 - val_loss: 0.1476 - val_accuracy: 0.9483\n",
            "\n",
            "Epoch 00015: val_loss did not improve from 0.12599\n"
          ],
          "name": "stdout"
        }
      ]
    },
    {
      "cell_type": "code",
      "metadata": {
        "id": "aOm3IKVMG-j5",
        "colab": {
          "base_uri": "https://localhost:8080/",
          "height": 265
        },
        "outputId": "94f2a683-cca3-4b6d-d7f9-d872c0839909"
      },
      "source": [
        "import matplotlib.pyplot as plt\n",
        "\n",
        "acc = history.history['accuracy']\n",
        "val_acc = history.history['val_accuracy']\n",
        "loss = history.history['loss']\n",
        "val_loss = history.history['val_loss']\n",
        "epochs = range(1, len(acc) + 1)\n",
        "\n",
        "f, axes = plt.subplots(1,2,figsize=(14,4))\n",
        "\n",
        "axes[0].plot(epochs, acc, 'bo', label='Training acc')\n",
        "axes[0].plot(epochs, val_acc, 'b', label='Validation acc')\n",
        "axes[0].legend()\n",
        "\n",
        "axes[1].plot(epochs, loss, 'bo', label='Training loss')\n",
        "axes[1].plot(epochs, val_loss, 'b', label='Validation loss')\n",
        "axes[1].yaxis.set_label_position(\"right\")\n",
        "axes[1].legend()\n",
        "\n",
        "plt.show()"
      ],
      "execution_count": null,
      "outputs": [
        {
          "output_type": "display_data",
          "data": {
            "image/png": "[encoded data removed]",
            "text/plain": [
              "<Figure size 1008x288 with 2 Axes>"
            ]
          },
          "metadata": {
            "tags": [],
            "needs_background": "light"
          }
        }
      ]
    },
    {
      "cell_type": "code",
      "metadata": {
        "id": "KjzvGdMLHDQu",
        "colab": {
          "base_uri": "https://localhost:8080/"
        },
        "outputId": "afc0a5d4-bc66-48a2-e2e9-44672044cf25"
      },
      "source": [
        "from sklearn import metrics\n",
        "y_pred = model.predict(test_features)\n",
        "probas = np.array(y_pred)\n",
        "labels = []\n",
        "for prob in probas:\n",
        "  if prob < 0.5:\n",
        "    labels.append(0)\n",
        "  else:\n",
        "    labels.append(1)\n",
        "y_true_labels = test_labels_VGG16\n",
        "y_pred_labels = labels\n",
        "from sklearn.metrics import accuracy_score, precision_score, recall_score, f1_score\n",
        "# accuracy: (tp + tn) / (p + n)\n",
        "accuracy = accuracy_score(y_true_labels, y_pred_labels)\n",
        "print('Accuracy: %f' % accuracy)\n",
        "# precision tp / (tp + fp)\n",
        "precision = precision_score(y_true_labels, y_pred_labels,pos_label='positive', average='micro')\n",
        "print('Precision: %f' % precision)\n",
        "# recall: tp / (tp + fn)\n",
        "recall = recall_score(y_true_labels, y_pred_labels, average='micro')\n",
        "print('Recall: %f' % recall)\n",
        "# f1: 2 tp / (2 tp + fp + fn)\n",
        "f1 = f1_score(y_true_labels, y_pred_labels, average='weighted')\n",
        "print('F1 score: %f' % f1)\n",
        "from sklearn.metrics import classification_report\n",
        "print(classification_report(y_true_labels, y_pred_labels, target_names=[\"covid\", \"normal\"]))\n",
        "from sklearn.metrics import confusion_matrix\n",
        "confusion_matrix(y_true_labels, y_pred_labels)"
      ],
      "execution_count": null,
      "outputs": [
        {
          "output_type": "stream",
          "text": [
            "Accuracy: 0.953734\n",
            "Precision: 0.953734\n",
            "Recall: 0.953734\n",
            "F1 score: 0.953723\n",
            "              precision    recall  f1-score   support\n",
            "\n",
            "       covid       0.94      0.97      0.95       616\n",
            "      normal       0.97      0.94      0.95       616\n",
            "\n",
            "    accuracy                           0.95      1232\n",
            "   macro avg       0.95      0.95      0.95      1232\n",
            "weighted avg       0.95      0.95      0.95      1232\n",
            "\n"
          ],
          "name": "stdout"
        },
        {
          "output_type": "stream",
          "text": [
            "/usr/local/lib/python3.7/dist-packages/sklearn/metrics/_classification.py:1321: UserWarning: Note that pos_label (set to 'positive') is ignored when average != 'binary' (got 'micro'). You may use labels=[pos_label] to specify a single positive class.\n",
            "  % (pos_label, average), UserWarning)\n"
          ],
          "name": "stderr"
        },
        {
          "output_type": "execute_result",
          "data": {
            "text/plain": [
              "array([[597,  19],\n",
              "       [ 38, 578]])"
            ]
          },
          "metadata": {
            "tags": []
          },
          "execution_count": 36
        }
      ]
    }
  ]
}